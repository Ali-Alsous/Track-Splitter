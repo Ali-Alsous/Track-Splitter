{
 "cells": [
  {
   "cell_type": "code",
   "execution_count": null,
   "metadata": {},
   "outputs": [],
   "source": [
    "import pydub\n",
    "from pydub import AudioSegment\n",
    "from pydub.silence import split_on_silence"
   ]
  },
  {
   "cell_type": "code",
   "execution_count": null,
   "metadata": {},
   "outputs": [],
   "source": [
    "def match_target_amplitude(aTrack, target_dBFS):\n",
    "    \n",
    "    ''' Normalizing given audio chunk '''\n",
    "    \n",
    "    change_in_dBFS = target_dBFS - aTrack.dBFS\n",
    "    return aTrack.apply_gain(change_in_dBFS)"
   ]
  },
  {
   "cell_type": "code",
   "execution_count": null,
   "metadata": {},
   "outputs": [],
   "source": [
    "# :: WARNING FFMPEG required in order to import mp3 files\n",
    "\n",
    "# Use WAV files instead if only using pure python\n",
    "\n",
    "# FFMPEG must be added to same path as envvar see code below if you encounter an error\n",
    "\n",
    "# pydub.AudioSegment.ffmpeg = \"/absolute/path/to/ffmpeg\""
   ]
  },
  {
   "cell_type": "code",
   "execution_count": null,
   "metadata": {},
   "outputs": [],
   "source": [
    "# Loading the audio.\n",
    "song = AudioSegment.from_mp3(\"Your_Audio.mp3\")"
   ]
  },
  {
   "cell_type": "code",
   "execution_count": null,
   "metadata": {},
   "outputs": [],
   "source": [
    "# Monophonic signals contain only 1 channel, Stereo = 2\n",
    "print(song.channels)"
   ]
  },
  {
   "cell_type": "code",
   "execution_count": null,
   "metadata": {},
   "outputs": [],
   "source": [
    "# Split track where the silence is 3 seconds or more and get chunks using \n",
    "# the imported function.\n",
    "# note length is mesured in miliseconds\n",
    "# You may want to adjust your silence threshold (measured in dbfs)\n",
    "\n",
    "tracks = split_on_silence(song, min_silence_len=3000, silence_thresh = -32)\n"
   ]
  },
  {
   "cell_type": "code",
   "execution_count": null,
   "metadata": {},
   "outputs": [],
   "source": [
    "# Process each chunk with your parameters\n",
    "for i, track in enumerate(tracks):\n",
    "    \n",
    "    # Create a silence chunk that's 0.5 seconds (or 500 ms) long for padding.\n",
    "    silence_chunk = AudioSegment.silent(duration=500)\n",
    "\n",
    "    # Add the padding chunk to beginning and end of the entire trackk.\n",
    "    audio_track = silence_chunk + track + silence_chunk\n",
    "\n",
    "    # Normalize the entire sound.\n",
    "    normalized_track = match_target_amplitude(audio_track, -20.0)\n",
    "\n",
    "    # Export the audio track with new bitrate.\n",
    "    print(\"Exporting Track{0}.mp3.\".format(i+1))\n",
    "    normalized_track.export(\n",
    "        \".//Track{0}.mp3\".format(i+1),\n",
    "        bitrate = \"192k\",\n",
    "        format = \"mp3\"\n",
    "    )"
   ]
  }
 ],
 "metadata": {
  "kernelspec": {
   "display_name": "Python 3",
   "language": "python",
   "name": "python3"
  },
  "language_info": {
   "codemirror_mode": {
    "name": "ipython",
    "version": 3
   },
   "file_extension": ".py",
   "mimetype": "text/x-python",
   "name": "python",
   "nbconvert_exporter": "python",
   "pygments_lexer": "ipython3",
   "version": "3.7.9"
  }
 },
 "nbformat": 4,
 "nbformat_minor": 4
}
